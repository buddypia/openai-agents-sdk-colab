{
  "nbformat": 4,
  "nbformat_minor": 0,
  "metadata": {
    "colab": {
      "provenance": [],
      "authorship_tag": "ABX9TyPhsPcA8XQgCviWrkICL6FY",
      "include_colab_link": true
    },
    "kernelspec": {
      "name": "python3",
      "display_name": "Python 3"
    },
    "language_info": {
      "name": "python"
    }
  },
  "cells": [
    {
      "cell_type": "markdown",
      "metadata": {
        "id": "view-in-github",
        "colab_type": "text"
      },
      "source": [
        "<a href=\"https://colab.research.google.com/github/buddypia/openai-agents-sdk-colab/blob/master/simple_mcp_server.ipynb\" target=\"_parent\"><img src=\"https://colab.research.google.com/assets/colab-badge.svg\" alt=\"Open In Colab\"/></a>"
      ]
    },
    {
      "cell_type": "markdown",
      "source": [
        "## MCP活用エージェント\n",
        "\n",
        "MCPサーバーの作成エージェントでそのMCPサーバーを活用する例\n",
        "1. MCPサーバーの作成\n",
        "2. addツール、get_secret_word、get_current_weatherツールを定義\n",
        "3. MCPサーバーへ接続\n",
        "4. 各ツールの確認\n",
        "5. エージェントでMCPサーバーの利用\n",
        "\n",
        "## INPUT1\n",
        "```markdown\n",
        "これらの数字を足す: 7 and 22.\n",
        "```\n",
        "\n",
        "## OUTPUT1\n",
        "```markdown\n",
        "7と22を足すと、29です。\n",
        "```\n",
        "\n",
        "## INPUT2\n",
        "```markdown\n",
        "東京の天気はどうですか？\n",
        "```\n",
        "\n",
        "## OUTPUT2\n",
        "```markdown\n",
        "東京の現在の天気は「**晴れ時々曇り**」です。気温は約20°C (68°F)で、北北西からの風が約21 km/h (13 mph)で吹いています。降水の可能性は低く、視界は約9.7 km (6マイル)です。\n",
        "\n",
        "午後や夕方には一時的に雨が降る可能性があります。気温の変動に注意してください。\n",
        "```\n",
        "\n",
        "## INPUT3\n",
        "```markdown\n",
        "秘密の言葉は何ですか？\n",
        "```\n",
        "\n",
        "## OUTPUT3\n",
        "```markdown\n",
        "秘密の言葉は「りんご」です。\n",
        "```\n",
        "\n",
        "## エージェントフロー図\n",
        "<img src=\"https://drive.google.com/uc?id=1L5gmVDenxiScUX9kfc4viUUBIMryrUIc\" width=\"80%\">"
      ],
      "metadata": {
        "id": "yFUEGnaAGnCK"
      }
    },
    {
      "cell_type": "code",
      "execution_count": null,
      "metadata": {
        "colab": {
          "base_uri": "https://localhost:8080/"
        },
        "id": "67yYUVMDWe1j",
        "outputId": "db74e5e8-7fdc-40af-db3b-3d0fcebbd7e9"
      },
      "outputs": [
        {
          "output_type": "stream",
          "name": "stdout",
          "text": [
            "Collecting openai-agents\n",
            "  Downloading openai_agents-0.0.14-py3-none-any.whl.metadata (8.2 kB)\n",
            "Collecting mcp[cli]\n",
            "  Downloading mcp-1.6.0-py3-none-any.whl.metadata (20 kB)\n",
            "Collecting griffe<2,>=1.5.6 (from openai-agents)\n",
            "  Downloading griffe-1.7.3-py3-none-any.whl.metadata (5.0 kB)\n",
            "Requirement already satisfied: openai>=1.76.0 in /usr/local/lib/python3.11/dist-packages (from openai-agents) (1.76.0)\n",
            "Requirement already satisfied: pydantic<3,>=2.10 in /usr/local/lib/python3.11/dist-packages (from openai-agents) (2.11.3)\n",
            "Requirement already satisfied: requests<3,>=2.0 in /usr/local/lib/python3.11/dist-packages (from openai-agents) (2.32.3)\n",
            "Collecting types-requests<3,>=2.0 (from openai-agents)\n",
            "  Downloading types_requests-2.32.0.20250328-py3-none-any.whl.metadata (2.3 kB)\n",
            "Requirement already satisfied: typing-extensions<5,>=4.12.2 in /usr/local/lib/python3.11/dist-packages (from openai-agents) (4.13.2)\n",
            "Requirement already satisfied: anyio>=4.5 in /usr/local/lib/python3.11/dist-packages (from mcp[cli]) (4.9.0)\n",
            "Collecting httpx-sse>=0.4 (from mcp[cli])\n",
            "  Downloading httpx_sse-0.4.0-py3-none-any.whl.metadata (9.0 kB)\n",
            "Requirement already satisfied: httpx>=0.27 in /usr/local/lib/python3.11/dist-packages (from mcp[cli]) (0.28.1)\n",
            "Collecting pydantic-settings>=2.5.2 (from mcp[cli])\n",
            "  Downloading pydantic_settings-2.9.1-py3-none-any.whl.metadata (3.8 kB)\n",
            "Collecting sse-starlette>=1.6.1 (from mcp[cli])\n",
            "  Downloading sse_starlette-2.3.3-py3-none-any.whl.metadata (7.8 kB)\n",
            "Collecting starlette>=0.27 (from mcp[cli])\n",
            "  Downloading starlette-0.46.2-py3-none-any.whl.metadata (6.2 kB)\n",
            "Collecting uvicorn>=0.23.1 (from mcp[cli])\n",
            "  Downloading uvicorn-0.34.2-py3-none-any.whl.metadata (6.5 kB)\n",
            "Collecting python-dotenv>=1.0.0 (from mcp[cli])\n",
            "  Downloading python_dotenv-1.1.0-py3-none-any.whl.metadata (24 kB)\n",
            "Requirement already satisfied: typer>=0.12.4 in /usr/local/lib/python3.11/dist-packages (from mcp[cli]) (0.15.2)\n",
            "Requirement already satisfied: idna>=2.8 in /usr/local/lib/python3.11/dist-packages (from anyio>=4.5->mcp[cli]) (3.10)\n",
            "Requirement already satisfied: sniffio>=1.1 in /usr/local/lib/python3.11/dist-packages (from anyio>=4.5->mcp[cli]) (1.3.1)\n",
            "Collecting colorama>=0.4 (from griffe<2,>=1.5.6->openai-agents)\n",
            "  Downloading colorama-0.4.6-py2.py3-none-any.whl.metadata (17 kB)\n",
            "Requirement already satisfied: certifi in /usr/local/lib/python3.11/dist-packages (from httpx>=0.27->mcp[cli]) (2025.1.31)\n",
            "Requirement already satisfied: httpcore==1.* in /usr/local/lib/python3.11/dist-packages (from httpx>=0.27->mcp[cli]) (1.0.9)\n",
            "Requirement already satisfied: h11>=0.16 in /usr/local/lib/python3.11/dist-packages (from httpcore==1.*->httpx>=0.27->mcp[cli]) (0.16.0)\n",
            "Requirement already satisfied: distro<2,>=1.7.0 in /usr/local/lib/python3.11/dist-packages (from openai>=1.76.0->openai-agents) (1.9.0)\n",
            "Requirement already satisfied: jiter<1,>=0.4.0 in /usr/local/lib/python3.11/dist-packages (from openai>=1.76.0->openai-agents) (0.9.0)\n",
            "Requirement already satisfied: tqdm>4 in /usr/local/lib/python3.11/dist-packages (from openai>=1.76.0->openai-agents) (4.67.1)\n",
            "Requirement already satisfied: annotated-types>=0.6.0 in /usr/local/lib/python3.11/dist-packages (from pydantic<3,>=2.10->openai-agents) (0.7.0)\n",
            "Requirement already satisfied: pydantic-core==2.33.1 in /usr/local/lib/python3.11/dist-packages (from pydantic<3,>=2.10->openai-agents) (2.33.1)\n",
            "Requirement already satisfied: typing-inspection>=0.4.0 in /usr/local/lib/python3.11/dist-packages (from pydantic<3,>=2.10->openai-agents) (0.4.0)\n",
            "Requirement already satisfied: charset-normalizer<4,>=2 in /usr/local/lib/python3.11/dist-packages (from requests<3,>=2.0->openai-agents) (3.4.1)\n",
            "Requirement already satisfied: urllib3<3,>=1.21.1 in /usr/local/lib/python3.11/dist-packages (from requests<3,>=2.0->openai-agents) (2.4.0)\n",
            "Requirement already satisfied: click>=8.0.0 in /usr/local/lib/python3.11/dist-packages (from typer>=0.12.4->mcp[cli]) (8.1.8)\n",
            "Requirement already satisfied: shellingham>=1.3.0 in /usr/local/lib/python3.11/dist-packages (from typer>=0.12.4->mcp[cli]) (1.5.4)\n",
            "Requirement already satisfied: rich>=10.11.0 in /usr/local/lib/python3.11/dist-packages (from typer>=0.12.4->mcp[cli]) (13.9.4)\n",
            "Requirement already satisfied: markdown-it-py>=2.2.0 in /usr/local/lib/python3.11/dist-packages (from rich>=10.11.0->typer>=0.12.4->mcp[cli]) (3.0.0)\n",
            "Requirement already satisfied: pygments<3.0.0,>=2.13.0 in /usr/local/lib/python3.11/dist-packages (from rich>=10.11.0->typer>=0.12.4->mcp[cli]) (2.19.1)\n",
            "Requirement already satisfied: mdurl~=0.1 in /usr/local/lib/python3.11/dist-packages (from markdown-it-py>=2.2.0->rich>=10.11.0->typer>=0.12.4->mcp[cli]) (0.1.2)\n",
            "Downloading openai_agents-0.0.14-py3-none-any.whl (116 kB)\n",
            "\u001b[2K   \u001b[90m━━━━━━━━━━━━━━━━━━━━━━━━━━━━━━━━━━━━━━━━\u001b[0m \u001b[32m116.9/116.9 kB\u001b[0m \u001b[31m3.7 MB/s\u001b[0m eta \u001b[36m0:00:00\u001b[0m\n",
            "\u001b[?25hDownloading griffe-1.7.3-py3-none-any.whl (129 kB)\n",
            "\u001b[2K   \u001b[90m━━━━━━━━━━━━━━━━━━━━━━━━━━━━━━━━━━━━━━━━\u001b[0m \u001b[32m129.3/129.3 kB\u001b[0m \u001b[31m8.9 MB/s\u001b[0m eta \u001b[36m0:00:00\u001b[0m\n",
            "\u001b[?25hDownloading httpx_sse-0.4.0-py3-none-any.whl (7.8 kB)\n",
            "Downloading mcp-1.6.0-py3-none-any.whl (76 kB)\n",
            "\u001b[2K   \u001b[90m━━━━━━━━━━━━━━━━━━━━━━━━━━━━━━━━━━━━━━━━\u001b[0m \u001b[32m76.1/76.1 kB\u001b[0m \u001b[31m5.9 MB/s\u001b[0m eta \u001b[36m0:00:00\u001b[0m\n",
            "\u001b[?25hDownloading pydantic_settings-2.9.1-py3-none-any.whl (44 kB)\n",
            "\u001b[2K   \u001b[90m━━━━━━━━━━━━━━━━━━━━━━━━━━━━━━━━━━━━━━━━\u001b[0m \u001b[32m44.4/44.4 kB\u001b[0m \u001b[31m3.2 MB/s\u001b[0m eta \u001b[36m0:00:00\u001b[0m\n",
            "\u001b[?25hDownloading python_dotenv-1.1.0-py3-none-any.whl (20 kB)\n",
            "Downloading sse_starlette-2.3.3-py3-none-any.whl (10 kB)\n",
            "Downloading starlette-0.46.2-py3-none-any.whl (72 kB)\n",
            "\u001b[2K   \u001b[90m━━━━━━━━━━━━━━━━━━━━━━━━━━━━━━━━━━━━━━━━\u001b[0m \u001b[32m72.0/72.0 kB\u001b[0m \u001b[31m5.4 MB/s\u001b[0m eta \u001b[36m0:00:00\u001b[0m\n",
            "\u001b[?25hDownloading types_requests-2.32.0.20250328-py3-none-any.whl (20 kB)\n",
            "Downloading uvicorn-0.34.2-py3-none-any.whl (62 kB)\n",
            "\u001b[2K   \u001b[90m━━━━━━━━━━━━━━━━━━━━━━━━━━━━━━━━━━━━━━━━\u001b[0m \u001b[32m62.5/62.5 kB\u001b[0m \u001b[31m4.1 MB/s\u001b[0m eta \u001b[36m0:00:00\u001b[0m\n",
            "\u001b[?25hDownloading colorama-0.4.6-py2.py3-none-any.whl (25 kB)\n",
            "Installing collected packages: uvicorn, types-requests, python-dotenv, httpx-sse, colorama, starlette, griffe, sse-starlette, pydantic-settings, mcp, openai-agents\n",
            "Successfully installed colorama-0.4.6 griffe-1.7.3 httpx-sse-0.4.0 mcp-1.6.0 openai-agents-0.0.14 pydantic-settings-2.9.1 python-dotenv-1.1.0 sse-starlette-2.3.3 starlette-0.46.2 types-requests-2.32.0.20250328 uvicorn-0.34.2\n"
          ]
        }
      ],
      "source": [
        "# Pythonパッケージインストール\n",
        "!pip install openai-agents \"mcp[cli]\""
      ]
    },
    {
      "cell_type": "code",
      "source": [
        "import os\n",
        "from google.colab import userdata\n",
        "\n",
        "# ColabのシークレットからOpenAIのAPIキーを取得\n",
        "OPENAI_API_KEY = userdata.get(\"OPENAI_API_KEY\")\n",
        "\n",
        "# OpenAIエージェントにAPIキーを設定\n",
        "os.environ['OPENAI_API_KEY'] = OPENAI_API_KEY"
      ],
      "metadata": {
        "id": "psBxwaczZQgS"
      },
      "execution_count": null,
      "outputs": []
    },
    {
      "cell_type": "code",
      "source": [
        "# MCPサーバーの実装\n",
        "import random\n",
        "\n",
        "import requests\n",
        "from mcp.server.fastmcp import FastMCP # FastMCPサーバーフレームワーク\n",
        "\n",
        "mcp = FastMCP(\"Echo Server\") # \"Echo Server\"という名前でFastMCPサーバーインスタンスを作成\n",
        "\n",
        "@mcp.tool()\n",
        "def add(a: int, b: int) -> int:\n",
        "    \"\"\"二つの数を足し合わせる\"\"\"\n",
        "    print(f\"[debug-server] add({a}, {b})\")\n",
        "    return a + b\n",
        "\n",
        "\n",
        "@mcp.tool()\n",
        "def get_secret_word() -> str:\n",
        "    \"\"\"秘密の単語を取得する\"\"\"\n",
        "    print(\"[debug-server] get_secret_word()\")\n",
        "    return random.choice([\"りんご\", \"バナナ\", \"みかん\"])\n",
        "\n",
        "\n",
        "@mcp.tool()\n",
        "def get_current_weather(city: str) -> str:\n",
        "    \"\"\"指定された都市の現在の天気を取得する\"\"\"\n",
        "    print(f\"[debug-server] get_current_weather({city})\")\n",
        "\n",
        "    endpoint = \"https://wttr.in\"\n",
        "    response = requests.get(f\"{endpoint}/{city}\")\n",
        "    return response.text"
      ],
      "metadata": {
        "id": "2VGPAAMNe3yX"
      },
      "execution_count": null,
      "outputs": []
    },
    {
      "cell_type": "code",
      "source": [
        "import asyncio\n",
        "\n",
        "# colabでMCPサーバーを起動\n",
        "server_task = asyncio.create_task(mcp.run_sse_async())\n",
        "# ローカル環境でMCPサーバーを起動する場合はこちらを利用\n",
        "# asyncio.run(mcp.run_sse_async())"
      ],
      "metadata": {
        "id": "UFD2jeH4fykm"
      },
      "execution_count": null,
      "outputs": []
    },
    {
      "cell_type": "code",
      "source": [
        "# MCPサーバーに接続\n",
        "from agents.mcp import MCPServerSse\n",
        "\n",
        "mcp_server = MCPServerSse(params={\"url\": \"http://0.0.0.0:8000/sse\"})\n",
        "await mcp_server.connect()"
      ],
      "metadata": {
        "colab": {
          "base_uri": "https://localhost:8080/"
        },
        "id": "EtJ2DkH2hKqA",
        "outputId": "c34744f1-b5bb-4d67-e796-e28ca2896520"
      },
      "execution_count": null,
      "outputs": [
        {
          "output_type": "stream",
          "name": "stdout",
          "text": [
            "INFO:     127.0.0.1:54094 - \"GET /sse HTTP/1.1\" 200 OK\n",
            "INFO:     127.0.0.1:54110 - \"POST /messages/?session_id=05a71fcc7d0d49439ff0f0870bbd80fe HTTP/1.1\" 202 Accepted\n"
          ]
        }
      ]
    },
    {
      "cell_type": "code",
      "source": [
        "# サーバー上で使用可能なツールを一覧表示\n",
        "await mcp_server.list_tools()"
      ],
      "metadata": {
        "colab": {
          "base_uri": "https://localhost:8080/"
        },
        "id": "1sflqQ3shT3F",
        "outputId": "978a3430-012e-4c70-d220-0ac6b400b1c0"
      },
      "execution_count": null,
      "outputs": [
        {
          "output_type": "stream",
          "name": "stdout",
          "text": [
            "INFO:     127.0.0.1:54110 - \"POST /messages/?session_id=05a71fcc7d0d49439ff0f0870bbd80fe HTTP/1.1\" 202 Accepted\n",
            "INFO:     127.0.0.1:54110 - \"POST /messages/?session_id=05a71fcc7d0d49439ff0f0870bbd80fe HTTP/1.1\" 202 Accepted\n"
          ]
        },
        {
          "output_type": "execute_result",
          "data": {
            "text/plain": [
              "[Tool(name='add', description='二つの数を足し合わせる', inputSchema={'properties': {'a': {'title': 'A', 'type': 'integer'}, 'b': {'title': 'B', 'type': 'integer'}}, 'required': ['a', 'b'], 'title': 'addArguments', 'type': 'object'}),\n",
              " Tool(name='get_secret_word', description='秘密の単語を取得する', inputSchema={'properties': {}, 'title': 'get_secret_wordArguments', 'type': 'object'}),\n",
              " Tool(name='get_current_weather', description='指定された都市の現在の天気を取得する', inputSchema={'properties': {'city': {'title': 'City', 'type': 'string'}}, 'required': ['city'], 'title': 'get_current_weatherArguments', 'type': 'object'})]"
            ]
          },
          "metadata": {},
          "execution_count": 8
        }
      ]
    },
    {
      "cell_type": "code",
      "source": [
        "# 二つの数を足し合わせる\n",
        "await mcp_server.call_tool(\"add\", {\"a\": 3, \"b\": 2})"
      ],
      "metadata": {
        "colab": {
          "base_uri": "https://localhost:8080/"
        },
        "id": "Nmc3h3l-h169",
        "outputId": "72453e8a-d55d-4415-fc91-2f416334e9d1"
      },
      "execution_count": null,
      "outputs": [
        {
          "output_type": "stream",
          "name": "stdout",
          "text": [
            "INFO:     127.0.0.1:54110 - \"POST /messages/?session_id=05a71fcc7d0d49439ff0f0870bbd80fe HTTP/1.1\" 202 Accepted\n",
            "[debug-server] add(3, 2)\n"
          ]
        },
        {
          "output_type": "execute_result",
          "data": {
            "text/plain": [
              "CallToolResult(meta=None, content=[TextContent(type='text', text='5', annotations=None)], isError=False)"
            ]
          },
          "metadata": {},
          "execution_count": 9
        }
      ]
    },
    {
      "cell_type": "code",
      "source": [
        "# 秘密の単語を取得する\n",
        "await mcp_server.call_tool(\"get_secret_word\", {})"
      ],
      "metadata": {
        "colab": {
          "base_uri": "https://localhost:8080/"
        },
        "id": "yu6xJjwtidpf",
        "outputId": "ac7dd248-7afd-427b-e20d-1714e83dcc4e"
      },
      "execution_count": null,
      "outputs": [
        {
          "output_type": "stream",
          "name": "stdout",
          "text": [
            "INFO:     127.0.0.1:41044 - \"POST /messages/?session_id=05a71fcc7d0d49439ff0f0870bbd80fe HTTP/1.1\" 202 Accepted\n",
            "[debug-server] get_secret_word()\n"
          ]
        },
        {
          "output_type": "execute_result",
          "data": {
            "text/plain": [
              "CallToolResult(meta=None, content=[TextContent(type='text', text='りんご', annotations=None)], isError=False)"
            ]
          },
          "metadata": {},
          "execution_count": 17
        }
      ]
    },
    {
      "cell_type": "code",
      "source": [
        "# 指定された都市の現在の天気を取得する\n",
        "# https://wttr.in/shibuya\n",
        "await mcp_server.call_tool(\"get_current_weather\", {\"city\": \"shibuya\"})\n"
      ],
      "metadata": {
        "colab": {
          "base_uri": "https://localhost:8080/"
        },
        "id": "Ir3hrUjsifyW",
        "outputId": "eac7b9f3-9b06-4c54-8dc6-27b1a91f2f87"
      },
      "execution_count": null,
      "outputs": [
        {
          "output_type": "stream",
          "name": "stdout",
          "text": [
            "INFO:     127.0.0.1:54110 - \"POST /messages/?session_id=05a71fcc7d0d49439ff0f0870bbd80fe HTTP/1.1\" 202 Accepted\n",
            "[debug-server] get_current_weather(shibuya)\n"
          ]
        },
        {
          "output_type": "execute_result",
          "data": {
            "text/plain": [
              "CallToolResult(meta=None, content=[TextContent(type='text', text='Weather report: shibuya\\n\\n  \\x1b[38;5;226m   \\\\  /\\x1b[0m       Partly cloudy\\n  \\x1b[38;5;226m _ /\"\"\\x1b[38;5;250m.-.    \\x1b[0m \\x1b[38;5;226m+71\\x1b[0m(\\x1b[38;5;226m75\\x1b[0m) °F\\x1b[0m     \\n  \\x1b[38;5;226m   \\\\_\\x1b[38;5;250m(   ).  \\x1b[0m \\x1b[1m↑\\x1b[0m \\x1b[38;5;196m19\\x1b[0m mph\\x1b[0m       \\n  \\x1b[38;5;226m   /\\x1b[38;5;250m(___(__) \\x1b[0m 6 mi\\x1b[0m           \\n                0.0 in\\x1b[0m         \\n                                                       ┌─────────────┐                                                       \\n┌──────────────────────────────┬───────────────────────┤  Thu 01 May ├───────────────────────┬──────────────────────────────┐\\n│            Morning           │             Noon      └──────┬──────┘     Evening           │             Night            │\\n├──────────────────────────────┼──────────────────────────────┼──────────────────────────────┼──────────────────────────────┤\\n│ \\x1b[38;5;226m    \\\\   /    \\x1b[0m Sunny          │ \\x1b[38;5;226m    \\\\   /    \\x1b[0m Sunny          │ \\x1b[38;5;226m    \\\\   /    \\x1b[0m Sunny          │ \\x1b[38;5;226m    \\\\   /    \\x1b[0m Clear          │\\n│ \\x1b[38;5;226m     .-.     \\x1b[0m \\x1b[38;5;190m66\\x1b[0m °F\\x1b[0m          │ \\x1b[38;5;226m     .-.     \\x1b[0m \\x1b[38;5;190m69\\x1b[0m °F\\x1b[0m          │ \\x1b[38;5;226m     .-.     \\x1b[0m \\x1b[38;5;190m66\\x1b[0m °F\\x1b[0m          │ \\x1b[38;5;226m     .-.     \\x1b[0m \\x1b[38;5;154m64\\x1b[0m °F\\x1b[0m          │\\n│ \\x1b[38;5;226m  ― (   ) ―  \\x1b[0m \\x1b[1m↑\\x1b[0m \\x1b[38;5;226m8\\x1b[0m-\\x1b[38;5;220m9\\x1b[0m mph\\x1b[0m      │ \\x1b[38;5;226m  ― (   ) ―  \\x1b[0m \\x1b[1m↑\\x1b[0m \\x1b[38;5;208m16\\x1b[0m-\\x1b[38;5;202m18\\x1b[0m mph\\x1b[0m    │ \\x1b[38;5;226m  ― (   ) ―  \\x1b[0m \\x1b[1m↑\\x1b[0m \\x1b[38;5;202m19\\x1b[0m-\\x1b[38;5;196m24\\x1b[0m mph\\x1b[0m    │ \\x1b[38;5;226m  ― (   ) ―  \\x1b[0m \\x1b[1m↖\\x1b[0m \\x1b[38;5;208m14\\x1b[0m-\\x1b[38;5;196m19\\x1b[0m mph\\x1b[0m    │\\n│ \\x1b[38;5;226m     `-’     \\x1b[0m 6 mi\\x1b[0m           │ \\x1b[38;5;226m     `-’     \\x1b[0m 6 mi\\x1b[0m           │ \\x1b[38;5;226m     `-’     \\x1b[0m 6 mi\\x1b[0m           │ \\x1b[38;5;226m     `-’     \\x1b[0m 6 mi\\x1b[0m           │\\n│ \\x1b[38;5;226m    /   \\\\    \\x1b[0m 0.0 in | 0%\\x1b[0m    │ \\x1b[38;5;226m    /   \\\\    \\x1b[0m 0.0 in | 0%\\x1b[0m    │ \\x1b[38;5;226m    /   \\\\    \\x1b[0m 0.0 in | 0%\\x1b[0m    │ \\x1b[38;5;226m    /   \\\\    \\x1b[0m 0.0 in | 0%\\x1b[0m    │\\n└──────────────────────────────┴──────────────────────────────┴──────────────────────────────┴──────────────────────────────┘\\n                                                       ┌─────────────┐                                                       \\n┌──────────────────────────────┬───────────────────────┤  Fri 02 May ├───────────────────────┬──────────────────────────────┐\\n│            Morning           │             Noon      └──────┬──────┘     Evening           │             Night            │\\n├──────────────────────────────┼──────────────────────────────┼──────────────────────────────┼──────────────────────────────┤\\n│ \\x1b[38;5;250m     .-.     \\x1b[0m Light drizzle  │ \\x1b[38;5;226m _`/\"\"\\x1b[38;5;250m.-.    \\x1b[0m Light rain sho…│ \\x1b[38;5;240;1m     .-.     \\x1b[0m Moderate rain  │ \\x1b[38;5;250m     .-.     \\x1b[0m Light drizzle  │\\n│ \\x1b[38;5;250m    (   ).   \\x1b[0m \\x1b[38;5;154m60\\x1b[0m °F\\x1b[0m          │ \\x1b[38;5;226m  ,\\\\_\\x1b[38;5;250m(   ).  \\x1b[0m \\x1b[38;5;154m62\\x1b[0m °F\\x1b[0m          │ \\x1b[38;5;240;1m    (   ).   \\x1b[0m \\x1b[38;5;154m60\\x1b[0m °F\\x1b[0m          │ \\x1b[38;5;250m    (   ).   \\x1b[0m \\x1b[38;5;154m60\\x1b[0m °F\\x1b[0m          │\\n│ \\x1b[38;5;250m   (___(__)  \\x1b[0m \\x1b[1m↖\\x1b[0m \\x1b[38;5;220m11\\x1b[0m-\\x1b[38;5;208m15\\x1b[0m mph\\x1b[0m    │ \\x1b[38;5;226m   /\\x1b[38;5;250m(___(__) \\x1b[0m \\x1b[1m↖\\x1b[0m \\x1b[38;5;208m16\\x1b[0m-\\x1b[38;5;196m21\\x1b[0m mph\\x1b[0m    │ \\x1b[38;5;240;1m   (___(__)  \\x1b[0m \\x1b[1m↖\\x1b[0m \\x1b[38;5;190m6\\x1b[0m-\\x1b[38;5;226m9\\x1b[0m mph\\x1b[0m      │ \\x1b[38;5;250m   (___(__)  \\x1b[0m \\x1b[1m↙\\x1b[0m \\x1b[38;5;226m9\\x1b[0m-\\x1b[38;5;214m12\\x1b[0m mph\\x1b[0m     │\\n│ \\x1b[38;5;111m    ‘ ‘ ‘ ‘  \\x1b[0m 1 mi\\x1b[0m           │ \\x1b[38;5;111m     ‘ ‘ ‘ ‘ \\x1b[0m 6 mi\\x1b[0m           │ \\x1b[38;5;21;1m  ‚‘‚‘‚‘‚‘   \\x1b[0m 4 mi\\x1b[0m           │ \\x1b[38;5;111m    ‘ ‘ ‘ ‘  \\x1b[0m 1 mi\\x1b[0m           │\\n│ \\x1b[38;5;111m   ‘ ‘ ‘ ‘   \\x1b[0m 0.0 in | 100%\\x1b[0m  │ \\x1b[38;5;111m    ‘ ‘ ‘ ‘  \\x1b[0m 0.0 in | 100%\\x1b[0m  │ \\x1b[38;5;21;1m  ‚’‚’‚’‚’   \\x1b[0m 0.1 in | 100%\\x1b[0m  │ \\x1b[38;5;111m   ‘ ‘ ‘ ‘   \\x1b[0m 0.0 in | 100%\\x1b[0m  │\\n└──────────────────────────────┴──────────────────────────────┴──────────────────────────────┴──────────────────────────────┘\\n                                                       ┌─────────────┐                                                       \\n┌──────────────────────────────┬───────────────────────┤  Sat 03 May ├───────────────────────┬──────────────────────────────┐\\n│            Morning           │             Noon      └──────┬──────┘     Evening           │             Night            │\\n├──────────────────────────────┼──────────────────────────────┼──────────────────────────────┼──────────────────────────────┤\\n│ \\x1b[38;5;226m   \\\\  /\\x1b[0m       Partly Cloudy  │ \\x1b[38;5;226m    \\\\   /    \\x1b[0m Sunny          │ \\x1b[38;5;226m _`/\"\"\\x1b[38;5;250m.-.    \\x1b[0m Patchy rain ne…│ \\x1b[38;5;226m   \\\\  /\\x1b[0m       Partly Cloudy  │\\n│ \\x1b[38;5;226m _ /\"\"\\x1b[38;5;250m.-.    \\x1b[0m \\x1b[38;5;154m64\\x1b[0m °F\\x1b[0m          │ \\x1b[38;5;226m     .-.     \\x1b[0m \\x1b[38;5;190m69\\x1b[0m °F\\x1b[0m          │ \\x1b[38;5;226m  ,\\\\_\\x1b[38;5;250m(   ).  \\x1b[0m \\x1b[38;5;190m66\\x1b[0m °F\\x1b[0m          │ \\x1b[38;5;226m _ /\"\"\\x1b[38;5;250m.-.    \\x1b[0m \\x1b[38;5;154m64\\x1b[0m °F\\x1b[0m          │\\n│ \\x1b[38;5;226m   \\\\_\\x1b[38;5;250m(   ).  \\x1b[0m \\x1b[1m↘\\x1b[0m \\x1b[38;5;226m8\\x1b[0m-\\x1b[38;5;220m9\\x1b[0m mph\\x1b[0m      │ \\x1b[38;5;226m  ― (   ) ―  \\x1b[0m \\x1b[1m↖\\x1b[0m \\x1b[38;5;154m4\\x1b[0m mph\\x1b[0m        │ \\x1b[38;5;226m   /\\x1b[38;5;250m(___(__) \\x1b[0m \\x1b[1m↖\\x1b[0m \\x1b[38;5;220m11\\x1b[0m-\\x1b[38;5;214m13\\x1b[0m mph\\x1b[0m    │ \\x1b[38;5;226m   \\\\_\\x1b[38;5;250m(   ).  \\x1b[0m \\x1b[1m↖\\x1b[0m \\x1b[38;5;220m11\\x1b[0m-\\x1b[38;5;208m14\\x1b[0m mph\\x1b[0m    │\\n│ \\x1b[38;5;226m   /\\x1b[38;5;250m(___(__) \\x1b[0m 6 mi\\x1b[0m           │ \\x1b[38;5;226m     `-’     \\x1b[0m 6 mi\\x1b[0m           │ \\x1b[38;5;111m     ‘ ‘ ‘ ‘ \\x1b[0m 6 mi\\x1b[0m           │ \\x1b[38;5;226m   /\\x1b[38;5;250m(___(__) \\x1b[0m 6 mi\\x1b[0m           │\\n│               0.0 in | 0%\\x1b[0m    │ \\x1b[38;5;226m    /   \\\\    \\x1b[0m 0.0 in | 0%\\x1b[0m    │ \\x1b[38;5;111m    ‘ ‘ ‘ ‘  \\x1b[0m 0.0 in | 75%\\x1b[0m   │               0.0 in | 0%\\x1b[0m    │\\n└──────────────────────────────┴──────────────────────────────┴──────────────────────────────┴──────────────────────────────┘\\nLocation: 渋谷区, 東京都, 日本 [35.664752,139.698096]\\n\\nFollow \\x1b[46m\\x1b[30m@igor_chubin\\x1b[0m for wttr.in updates\\n', annotations=None)], isError=False)"
            ]
          },
          "metadata": {},
          "execution_count": 11
        }
      ]
    },
    {
      "cell_type": "code",
      "source": [
        "from agents import Agent\n",
        "from agents.model_settings import ModelSettings\n",
        "\n",
        "# ツールを使用するエージェントを定義\n",
        "agent = Agent(\n",
        "\tname=\"Assistant\",\n",
        "\tinstructions=\"アシスタントです。ツールを使用して質問に答えます。\",\n",
        "\tmcp_servers=[mcp_server],\n",
        "\tmodel_settings=ModelSettings(tool_choice=\"required\") # ツールを必須にする\n",
        ")"
      ],
      "metadata": {
        "id": "mvkHMANTwELp"
      },
      "execution_count": null,
      "outputs": []
    },
    {
      "cell_type": "code",
      "source": [
        "from agents import Runner\n",
        "\n",
        "# `add`ツールを使って2つの数字を足す。\n",
        "message = \"これらの数字を足す: 7 and 22.\"\n",
        "print(f\"実行中: {message}\")\n",
        "result = await Runner.run(starting_agent=agent, input=message)\n",
        "print(result.final_output)"
      ],
      "metadata": {
        "colab": {
          "base_uri": "https://localhost:8080/"
        },
        "id": "WAMo_2D9j5aY",
        "outputId": "2c219641-c845-41e3-aefd-a3f176afc06f"
      },
      "execution_count": null,
      "outputs": [
        {
          "output_type": "stream",
          "name": "stdout",
          "text": [
            "実行中: これらの数字を足す: 7 and 22.\n",
            "INFO:     127.0.0.1:54110 - \"POST /messages/?session_id=05a71fcc7d0d49439ff0f0870bbd80fe HTTP/1.1\" 202 Accepted\n",
            "INFO:     127.0.0.1:54110 - \"POST /messages/?session_id=05a71fcc7d0d49439ff0f0870bbd80fe HTTP/1.1\" 202 Accepted\n",
            "[debug-server] add(7, 22)\n",
            "7と22を足すと、29です。\n"
          ]
        }
      ]
    },
    {
      "cell_type": "code",
      "source": [
        "# `get_weather`ツールを実行\n",
        "message = \"東京の天気はどうですか？\"\n",
        "print(f\"実行中: {message}\")\n",
        "result = await Runner.run(starting_agent=agent, input=message)\n",
        "print(result.final_output)"
      ],
      "metadata": {
        "colab": {
          "base_uri": "https://localhost:8080/"
        },
        "id": "WMyHekmijMby",
        "outputId": "b453a57e-594a-4d2f-8971-cbf74b274bd3"
      },
      "execution_count": null,
      "outputs": [
        {
          "output_type": "stream",
          "name": "stdout",
          "text": [
            "実行中: 東京の天気はどうですか？\n",
            "INFO:     127.0.0.1:54110 - \"POST /messages/?session_id=05a71fcc7d0d49439ff0f0870bbd80fe HTTP/1.1\" 202 Accepted\n",
            "INFO:     127.0.0.1:54110 - \"POST /messages/?session_id=05a71fcc7d0d49439ff0f0870bbd80fe HTTP/1.1\" 202 Accepted\n",
            "[debug-server] get_current_weather(Tokyo)\n",
            "東京の現在の天気は「**晴れ時々曇り**」です。気温は約20°C (68°F)で、北北西からの風が約21 km/h (13 mph)で吹いています。降水の可能性は低く、視界は約9.7 km (6マイル)です。\n",
            "\n",
            "午後や夕方には一時的に雨が降る可能性があります。気温の変動に注意してください。\n"
          ]
        }
      ]
    },
    {
      "cell_type": "code",
      "source": [
        "# `get_secret_word`ツールを実行\n",
        "message = \"秘密の言葉は何ですか？\"\n",
        "print(f\"実行中: {message}\")\n",
        "result = await Runner.run(starting_agent=agent, input=message)\n",
        "print(result.final_output)"
      ],
      "metadata": {
        "colab": {
          "base_uri": "https://localhost:8080/"
        },
        "id": "izvEh2E4k58S",
        "outputId": "3e8812fb-753f-462b-9105-cc41928776a3"
      },
      "execution_count": null,
      "outputs": [
        {
          "output_type": "stream",
          "name": "stdout",
          "text": [
            "実行中: 秘密の言葉は何ですか？\n",
            "INFO:     127.0.0.1:41044 - \"POST /messages/?session_id=05a71fcc7d0d49439ff0f0870bbd80fe HTTP/1.1\" 202 Accepted\n",
            "INFO:     127.0.0.1:41044 - \"POST /messages/?session_id=05a71fcc7d0d49439ff0f0870bbd80fe HTTP/1.1\" 202 Accepted\n",
            "[debug-server] get_secret_word()\n",
            "秘密の言葉は「りんご」です。\n"
          ]
        }
      ]
    },
    {
      "cell_type": "code",
      "source": [
        "# colabのMCPサーバーを停止\n",
        "server_task.cancel()"
      ],
      "metadata": {
        "colab": {
          "base_uri": "https://localhost:8080/"
        },
        "id": "RIRiJL5bltOA",
        "outputId": "4f3f57fc-253f-491a-ae18-8b21ec5b441f"
      },
      "execution_count": null,
      "outputs": [
        {
          "output_type": "execute_result",
          "data": {
            "text/plain": [
              "True"
            ]
          },
          "metadata": {},
          "execution_count": 16
        }
      ]
    }
  ]
}