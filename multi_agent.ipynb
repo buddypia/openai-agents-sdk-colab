{
  "nbformat": 4,
  "nbformat_minor": 0,
  "metadata": {
    "colab": {
      "provenance": [],
      "authorship_tag": "ABX9TyNeCwINJUbuyb7BSF3SxY4x",
      "include_colab_link": true
    },
    "kernelspec": {
      "name": "python3",
      "display_name": "Python 3"
    },
    "language_info": {
      "name": "python"
    }
  },
  "cells": [
    {
      "cell_type": "markdown",
      "metadata": {
        "id": "view-in-github",
        "colab_type": "text"
      },
      "source": [
        "<a href=\"https://colab.research.google.com/github/buddypia/openai-agents-sdk-colab/blob/master/multi_agent.ipynb\" target=\"_parent\"><img src=\"https://colab.research.google.com/assets/colab-badge.svg\" alt=\"Open In Colab\"/></a>"
      ]
    },
    {
      "cell_type": "code",
      "execution_count": 1,
      "metadata": {
        "colab": {
          "base_uri": "https://localhost:8080/"
        },
        "id": "nko31zDg10aK",
        "outputId": "77d27de3-f0b4-4099-b2b9-06acce3e0b69"
      },
      "outputs": [
        {
          "output_type": "stream",
          "name": "stdout",
          "text": [
            "Collecting openai-agents\n",
            "  Downloading openai_agents-0.0.14-py3-none-any.whl.metadata (8.2 kB)\n",
            "Collecting griffe<2,>=1.5.6 (from openai-agents)\n",
            "  Downloading griffe-1.7.3-py3-none-any.whl.metadata (5.0 kB)\n",
            "Collecting mcp<2,>=1.6.0 (from openai-agents)\n",
            "  Downloading mcp-1.7.0-py3-none-any.whl.metadata (21 kB)\n",
            "Requirement already satisfied: openai>=1.76.0 in /usr/local/lib/python3.11/dist-packages (from openai-agents) (1.76.0)\n",
            "Requirement already satisfied: pydantic<3,>=2.10 in /usr/local/lib/python3.11/dist-packages (from openai-agents) (2.11.3)\n",
            "Requirement already satisfied: requests<3,>=2.0 in /usr/local/lib/python3.11/dist-packages (from openai-agents) (2.32.3)\n",
            "Collecting types-requests<3,>=2.0 (from openai-agents)\n",
            "  Downloading types_requests-2.32.0.20250328-py3-none-any.whl.metadata (2.3 kB)\n",
            "Requirement already satisfied: typing-extensions<5,>=4.12.2 in /usr/local/lib/python3.11/dist-packages (from openai-agents) (4.13.2)\n",
            "Collecting colorama>=0.4 (from griffe<2,>=1.5.6->openai-agents)\n",
            "  Downloading colorama-0.4.6-py2.py3-none-any.whl.metadata (17 kB)\n",
            "Requirement already satisfied: anyio>=4.5 in /usr/local/lib/python3.11/dist-packages (from mcp<2,>=1.6.0->openai-agents) (4.9.0)\n",
            "Collecting httpx-sse>=0.4 (from mcp<2,>=1.6.0->openai-agents)\n",
            "  Downloading httpx_sse-0.4.0-py3-none-any.whl.metadata (9.0 kB)\n",
            "Requirement already satisfied: httpx>=0.27 in /usr/local/lib/python3.11/dist-packages (from mcp<2,>=1.6.0->openai-agents) (0.28.1)\n",
            "Collecting pydantic-settings>=2.5.2 (from mcp<2,>=1.6.0->openai-agents)\n",
            "  Downloading pydantic_settings-2.9.1-py3-none-any.whl.metadata (3.8 kB)\n",
            "Collecting python-multipart>=0.0.9 (from mcp<2,>=1.6.0->openai-agents)\n",
            "  Downloading python_multipart-0.0.20-py3-none-any.whl.metadata (1.8 kB)\n",
            "Collecting sse-starlette>=1.6.1 (from mcp<2,>=1.6.0->openai-agents)\n",
            "  Downloading sse_starlette-2.3.3-py3-none-any.whl.metadata (7.8 kB)\n",
            "Collecting starlette>=0.27 (from mcp<2,>=1.6.0->openai-agents)\n",
            "  Downloading starlette-0.46.2-py3-none-any.whl.metadata (6.2 kB)\n",
            "Collecting uvicorn>=0.23.1 (from mcp<2,>=1.6.0->openai-agents)\n",
            "  Downloading uvicorn-0.34.2-py3-none-any.whl.metadata (6.5 kB)\n",
            "Requirement already satisfied: distro<2,>=1.7.0 in /usr/local/lib/python3.11/dist-packages (from openai>=1.76.0->openai-agents) (1.9.0)\n",
            "Requirement already satisfied: jiter<1,>=0.4.0 in /usr/local/lib/python3.11/dist-packages (from openai>=1.76.0->openai-agents) (0.9.0)\n",
            "Requirement already satisfied: sniffio in /usr/local/lib/python3.11/dist-packages (from openai>=1.76.0->openai-agents) (1.3.1)\n",
            "Requirement already satisfied: tqdm>4 in /usr/local/lib/python3.11/dist-packages (from openai>=1.76.0->openai-agents) (4.67.1)\n",
            "Requirement already satisfied: annotated-types>=0.6.0 in /usr/local/lib/python3.11/dist-packages (from pydantic<3,>=2.10->openai-agents) (0.7.0)\n",
            "Requirement already satisfied: pydantic-core==2.33.1 in /usr/local/lib/python3.11/dist-packages (from pydantic<3,>=2.10->openai-agents) (2.33.1)\n",
            "Requirement already satisfied: typing-inspection>=0.4.0 in /usr/local/lib/python3.11/dist-packages (from pydantic<3,>=2.10->openai-agents) (0.4.0)\n",
            "Requirement already satisfied: charset-normalizer<4,>=2 in /usr/local/lib/python3.11/dist-packages (from requests<3,>=2.0->openai-agents) (3.4.1)\n",
            "Requirement already satisfied: idna<4,>=2.5 in /usr/local/lib/python3.11/dist-packages (from requests<3,>=2.0->openai-agents) (3.10)\n",
            "Requirement already satisfied: urllib3<3,>=1.21.1 in /usr/local/lib/python3.11/dist-packages (from requests<3,>=2.0->openai-agents) (2.4.0)\n",
            "Requirement already satisfied: certifi>=2017.4.17 in /usr/local/lib/python3.11/dist-packages (from requests<3,>=2.0->openai-agents) (2025.4.26)\n",
            "Requirement already satisfied: httpcore==1.* in /usr/local/lib/python3.11/dist-packages (from httpx>=0.27->mcp<2,>=1.6.0->openai-agents) (1.0.9)\n",
            "Requirement already satisfied: h11>=0.16 in /usr/local/lib/python3.11/dist-packages (from httpcore==1.*->httpx>=0.27->mcp<2,>=1.6.0->openai-agents) (0.16.0)\n",
            "Collecting python-dotenv>=0.21.0 (from pydantic-settings>=2.5.2->mcp<2,>=1.6.0->openai-agents)\n",
            "  Downloading python_dotenv-1.1.0-py3-none-any.whl.metadata (24 kB)\n",
            "Requirement already satisfied: click>=7.0 in /usr/local/lib/python3.11/dist-packages (from uvicorn>=0.23.1->mcp<2,>=1.6.0->openai-agents) (8.1.8)\n",
            "Downloading openai_agents-0.0.14-py3-none-any.whl (116 kB)\n",
            "\u001b[2K   \u001b[90m━━━━━━━━━━━━━━━━━━━━━━━━━━━━━━━━━━━━━━━━\u001b[0m \u001b[32m116.9/116.9 kB\u001b[0m \u001b[31m4.3 MB/s\u001b[0m eta \u001b[36m0:00:00\u001b[0m\n",
            "\u001b[?25hDownloading griffe-1.7.3-py3-none-any.whl (129 kB)\n",
            "\u001b[2K   \u001b[90m━━━━━━━━━━━━━━━━━━━━━━━━━━━━━━━━━━━━━━━━\u001b[0m \u001b[32m129.3/129.3 kB\u001b[0m \u001b[31m8.0 MB/s\u001b[0m eta \u001b[36m0:00:00\u001b[0m\n",
            "\u001b[?25hDownloading mcp-1.7.0-py3-none-any.whl (100 kB)\n",
            "\u001b[2K   \u001b[90m━━━━━━━━━━━━━━━━━━━━━━━━━━━━━━━━━━━━━━━━\u001b[0m \u001b[32m100.2/100.2 kB\u001b[0m \u001b[31m7.5 MB/s\u001b[0m eta \u001b[36m0:00:00\u001b[0m\n",
            "\u001b[?25hDownloading types_requests-2.32.0.20250328-py3-none-any.whl (20 kB)\n",
            "Downloading colorama-0.4.6-py2.py3-none-any.whl (25 kB)\n",
            "Downloading httpx_sse-0.4.0-py3-none-any.whl (7.8 kB)\n",
            "Downloading pydantic_settings-2.9.1-py3-none-any.whl (44 kB)\n",
            "\u001b[2K   \u001b[90m━━━━━━━━━━━━━━━━━━━━━━━━━━━━━━━━━━━━━━━━\u001b[0m \u001b[32m44.4/44.4 kB\u001b[0m \u001b[31m2.8 MB/s\u001b[0m eta \u001b[36m0:00:00\u001b[0m\n",
            "\u001b[?25hDownloading python_multipart-0.0.20-py3-none-any.whl (24 kB)\n",
            "Downloading sse_starlette-2.3.3-py3-none-any.whl (10 kB)\n",
            "Downloading starlette-0.46.2-py3-none-any.whl (72 kB)\n",
            "\u001b[2K   \u001b[90m━━━━━━━━━━━━━━━━━━━━━━━━━━━━━━━━━━━━━━━━\u001b[0m \u001b[32m72.0/72.0 kB\u001b[0m \u001b[31m4.1 MB/s\u001b[0m eta \u001b[36m0:00:00\u001b[0m\n",
            "\u001b[?25hDownloading uvicorn-0.34.2-py3-none-any.whl (62 kB)\n",
            "\u001b[2K   \u001b[90m━━━━━━━━━━━━━━━━━━━━━━━━━━━━━━━━━━━━━━━━\u001b[0m \u001b[32m62.5/62.5 kB\u001b[0m \u001b[31m4.4 MB/s\u001b[0m eta \u001b[36m0:00:00\u001b[0m\n",
            "\u001b[?25hDownloading python_dotenv-1.1.0-py3-none-any.whl (20 kB)\n",
            "Installing collected packages: uvicorn, types-requests, python-multipart, python-dotenv, httpx-sse, colorama, starlette, griffe, sse-starlette, pydantic-settings, mcp, openai-agents\n",
            "Successfully installed colorama-0.4.6 griffe-1.7.3 httpx-sse-0.4.0 mcp-1.7.0 openai-agents-0.0.14 pydantic-settings-2.9.1 python-dotenv-1.1.0 python-multipart-0.0.20 sse-starlette-2.3.3 starlette-0.46.2 types-requests-2.32.0.20250328 uvicorn-0.34.2\n"
          ]
        }
      ],
      "source": [
        "# Pythonパッケージインストール\n",
        "!pip install openai-agents"
      ]
    },
    {
      "cell_type": "code",
      "source": [
        "import os\n",
        "from google.colab import userdata\n",
        "\n",
        "# ColabのシークレットからOpenAIのAPIキーを取得\n",
        "OPENAI_API_KEY = userdata.get(\"OPENAI_API_KEY\")\n",
        "\n",
        "# OpenAIエージェントにAPIキーを設定\n",
        "os.environ['OPENAI_API_KEY'] = OPENAI_API_KEY"
      ],
      "metadata": {
        "id": "cVSd-24k16xw"
      },
      "execution_count": 2,
      "outputs": []
    },
    {
      "cell_type": "code",
      "source": [
        "import random\n",
        "\n",
        "from agents import Agent, function_tool\n",
        "\n",
        "# 乱数生成ツール\n",
        "@function_tool\n",
        "def random_number() -> int:\n",
        "    \"\"\"\n",
        "    指定された最大値までの乱数を生成します。\n",
        "    \"\"\"\n",
        "    return random.randint(0, 100)\n",
        "\n",
        "# 1. 乱数を生成するエージェントを定義\n",
        "random_number_agent = Agent(\n",
        "    name=\"random_int_agent\",\n",
        "    instructions=\"あなたは乱数を生成します。\",\n",
        "    tools=[random_number],\n",
        ")"
      ],
      "metadata": {
        "id": "SSz8Y_XS4zho"
      },
      "execution_count": 36,
      "outputs": []
    },
    {
      "cell_type": "code",
      "source": [
        "from agents import Agent\n",
        "\n",
        "# 2. 英語に翻訳するエージェントを定義\n",
        "english_translate_agent = Agent(\n",
        "    name=\"english_translate_agent\",\n",
        "    instructions=\"あなたは英語に翻訳します。\",\n",
        ")"
      ],
      "metadata": {
        "id": "JJ2AaM7_41Iv"
      },
      "execution_count": 37,
      "outputs": []
    },
    {
      "cell_type": "code",
      "source": [
        "from agents import Agent, WebSearchTool\n",
        "from agents.model_settings import ModelSettings\n",
        "\n",
        "# 3. サーチエージェントを定義\n",
        "search_agent = Agent(\n",
        "    name=\"Search agent\",\n",
        "    instructions=\"あなたはリサーチアシスタントです。検索語が与えられたら、ウェブを検索し、結果の簡潔な要約します\",\n",
        "    tools=[WebSearchTool()],\n",
        "    model_settings=ModelSettings(tool_choice=\"required\"),\n",
        ")"
      ],
      "metadata": {
        "id": "AFS_eJB742-S"
      },
      "execution_count": 55,
      "outputs": []
    },
    {
      "cell_type": "code",
      "source": [
        "from agents import Agent\n",
        "\n",
        "# ユーザーのインプットに基づいて適切なエージェントに処理を引き渡す（ハンドオフ）エージェントを定義\n",
        "triage_agent = Agent(\n",
        "    name=\"triage_agent\",\n",
        "    instructions=\"ユーザーの入力に基づいて、適切なエージェントに引き渡してください。\",\n",
        "    handoffs=[random_number_agent, english_translate_agent, search_agent],\n",
        ")"
      ],
      "metadata": {
        "id": "vwzr4fjn17pN"
      },
      "execution_count": 56,
      "outputs": []
    },
    {
      "cell_type": "code",
      "source": [
        "from agents import Runner, TResponseInputItem\n",
        "\n",
        "# 最初のユーザーメッセージを取得\n",
        "# 最初の担当エージェントを triage_agent に設定\n",
        "agent = triage_agent\n",
        "\n",
        "# ループしてエージェントを呼び出す\n",
        "# 指示1: 乱数を生成して\n",
        "# 指示2: 「休みの日は何をしていますか？」を英語に翻訳してください。\n",
        "# 指示3: 2025年5月の最新ニュースを教えて\n",
        "for attempt in range(3):\n",
        "    query = input(\"こんにちは！何かお手伝いできることはありますか？: \")\n",
        "\n",
        "    # 現在のエージェントを実行し、ストリーミングで結果を取得\n",
        "    result = await Runner.run(\n",
        "        agent, # 実行するエージェント\n",
        "        query, # 入力データ\n",
        "    )\n",
        "\n",
        "    print(f\"ハンドオフされたエージェント: {result.last_agent}\")\n",
        "    print(f\"{result.final_output}\\n\")"
      ],
      "metadata": {
        "colab": {
          "base_uri": "https://localhost:8080/"
        },
        "id": "s4IsoTeE2Uyr",
        "outputId": "a796c5d2-52d8-49ac-c6c2-bc9860582a1a"
      },
      "execution_count": 57,
      "outputs": [
        {
          "output_type": "stream",
          "name": "stdout",
          "text": [
            "こんにちは！何かお手伝いできることはありますか？: 乱数を生成して\n",
            "ハンドオフされたエージェント: Agent(name='random_int_agent', instructions='あなたは乱数を生成します。', handoff_description=None, handoffs=[], model=None, model_settings=ModelSettings(temperature=None, top_p=None, frequency_penalty=None, presence_penalty=None, tool_choice=None, parallel_tool_calls=None, truncation=None, max_tokens=None, reasoning=None, metadata=None, store=None, include_usage=None, extra_query=None, extra_body=None, extra_headers=None), tools=[FunctionTool(name='random_number', description='指定された最大値までの乱数を生成します。', params_json_schema={'properties': {}, 'title': 'random_number_args', 'type': 'object', 'additionalProperties': False, 'required': []}, on_invoke_tool=<function function_tool.<locals>._create_function_tool.<locals>._on_invoke_tool at 0x783f7fd88f40>, strict_json_schema=True)], mcp_servers=[], mcp_config={}, input_guardrails=[], output_guardrails=[], output_type=None, hooks=None, tool_use_behavior='run_llm_again', reset_tool_choice=True)\n",
            "生成された乱数は 71 です。\n",
            "\n",
            "こんにちは！何かお手伝いできることはありますか？: 「休みの日は何をしていますか？」を英語に翻訳してください。\n",
            "ハンドオフされたエージェント: Agent(name='english_translate_agent', instructions='あなたは英語に翻訳します。', handoff_description=None, handoffs=[], model=None, model_settings=ModelSettings(temperature=None, top_p=None, frequency_penalty=None, presence_penalty=None, tool_choice=None, parallel_tool_calls=None, truncation=None, max_tokens=None, reasoning=None, metadata=None, store=None, include_usage=None, extra_query=None, extra_body=None, extra_headers=None), tools=[], mcp_servers=[], mcp_config={}, input_guardrails=[], output_guardrails=[], output_type=None, hooks=None, tool_use_behavior='run_llm_again', reset_tool_choice=True)\n",
            "\"What do you do on your days off?\"\n",
            "\n",
            "こんにちは！何かお手伝いできることはありますか？: 2025年5月の最新ニュースを教えて\n",
            "ハンドオフされたエージェント: Agent(name='Search agent', instructions='あなたはリサーチアシスタントです。検索語が与えられたら、ウェブを検索し、結果の簡潔な要約します', handoff_description=None, handoffs=[], model=None, model_settings=ModelSettings(temperature=None, top_p=None, frequency_penalty=None, presence_penalty=None, tool_choice='required', parallel_tool_calls=None, truncation=None, max_tokens=None, reasoning=None, metadata=None, store=None, include_usage=None, extra_query=None, extra_body=None, extra_headers=None), tools=[WebSearchTool(user_location=None, search_context_size='medium')], mcp_servers=[], mcp_config={}, input_guardrails=[], output_guardrails=[], output_type=None, hooks=None, tool_use_behavior='run_llm_again', reset_tool_choice=True)\n",
            "2025年5月の最新ニュースをお伝えします。\n",
            "\n",
            "**映画公開情報**\n",
            "\n",
            "- **『ミッション：インポッシブル／ファイナル・レコニング』**  \n",
            "  トム・クルーズ主演の『ミッション：インポッシブル』シリーズ最新作が、2025年5月23日（金）に日米同時公開されます。第1弾予告編も公開され、シリーズの集大成として期待が高まっています。 ([news.yahoo.co.jp](https://news.yahoo.co.jp/articles/c33aaff395f3ca732128ee8ebf058b9d94a71bca?utm_source=openai))\n",
            "\n",
            "**音楽イベント**\n",
            "\n",
            "- **初音ミク JAPAN LIVE TOUR 2025 ～BLOOMING～**  \n",
            "  5月2日と3日に東京・Zepp Hanedaで、5月17日に札幌・Zepp Sapporoで開催されます。最新のテクノロジーを駆使したパフォーマンスが見どころです。 ([jp.trip.com](https://jp.trip.com/events/4670310-2025-05-japan-celebration-collection/?utm_source=openai))\n",
            "\n",
            "- **MISIA 2025 ツアー LOVE NEVER DIES**  \n",
            "  5月3日と4日に札幌の真駒内セキスイハイムアイスアリーナ、5月10日と11日に広島県立総合体育館（広島グリーンアリーナ）で開催されます。 ([jp.trip.com](https://jp.trip.com/events/2188789-2025-05-japan-collection/?utm_source=openai))\n",
            "\n",
            "**スポーツイベント**\n",
            "\n",
            "- **プロ野球試合：日本ハム vs 西武**  \n",
            "  5月4日に北海道北広島市のエスコンフィールド北海道で開催されます。 ([jp.trip.com](https://jp.trip.com/events/2188789-2025-05-japan-collection/?utm_source=openai))\n",
            "\n",
            "**天文現象**\n",
            "\n",
            "- **みずがめ座η流星群**  \n",
            "  5月6日に極大を迎えます。出現期間は4月25日から5月19日までで、観測の好機となります。 ([astroarts.co.jp](https://www.astroarts.co.jp/phenomena/2025/05/index-j.shtml?utm_source=openai))\n",
            "\n",
            "**新施設オープン**\n",
            "\n",
            "- **三井ショッピングパーク ららテラス川口**  \n",
            "  埼玉県川口市に、旧そごう川口店をリニューアルした「三井ショッピングパーク ららテラス川口」が開業します。地下1階から8階までの9フロアで、多彩なショップが集結します。 ([gltjp.com](https://www.gltjp.com/ja/article/item/20572/?utm_source=openai))\n",
            "\n",
            "- **こち亀記念館**  \n",
            "  東京都葛飾区亀有に、人気漫画『こちら葛飾区亀有公園前派出所』をテーマにした観光施設「こち亀記念館」がオープンしました。マンガのコマ割りを模した外観や、作中の神社の再現など、ファン必見の内容です。 ([gltjp.com](https://www.gltjp.com/ja/article/item/20572/?utm_source=openai))\n",
            "\n",
            "これらの情報は、2025年5月2日現在のものです。最新の情報は各公式サイトやニュースソースをご確認ください。 \n",
            "\n"
          ]
        }
      ]
    }
  ]
}