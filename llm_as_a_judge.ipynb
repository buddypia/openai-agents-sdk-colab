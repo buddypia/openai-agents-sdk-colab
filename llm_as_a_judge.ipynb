{
  "nbformat": 4,
  "nbformat_minor": 0,
  "metadata": {
    "colab": {
      "provenance": [],
      "authorship_tag": "ABX9TyOL+k6SUsYq/JTfBgGYyp5Q",
      "include_colab_link": true
    },
    "kernelspec": {
      "name": "python3",
      "display_name": "Python 3"
    },
    "language_info": {
      "name": "python"
    }
  },
  "cells": [
    {
      "cell_type": "markdown",
      "metadata": {
        "id": "view-in-github",
        "colab_type": "text"
      },
      "source": [
        "<a href=\"https://colab.research.google.com/github/buddypia/openai-agents-sdk-colab/blob/master/llm_as_a_judge.ipynb\" target=\"_parent\"><img src=\"https://colab.research.google.com/assets/colab-badge.svg\" alt=\"Open In Colab\"/></a>"
      ]
    },
    {
      "cell_type": "markdown",
      "source": [
        "## LLM-as-a-Judge\n",
        "\n",
        "作成された物語を評価し、80点以下の場合はフィードバックとともに改善を行い、80点を超えた場合に最終的な物語を表示する\n",
        "\n",
        "\n",
        "## INPUT\n",
        "```markdown\n",
        "桃太郎の物語\n",
        "```\n",
        "\n",
        "## OUTPUT\n",
        "```markdown\n",
        "80点超過の物語を表示\n",
        "```\n",
        "\n",
        "## エージェントフロー図\n",
        "<img src=\"https://drive.google.com/uc?id=1fKLrRYQSSGbYLahw6Ry_Ky_1zw5zGem3\" width=\"80%\">"
      ],
      "metadata": {
        "id": "IVbogIbwxw4l"
      }
    },
    {
      "cell_type": "code",
      "execution_count": null,
      "metadata": {
        "colab": {
          "base_uri": "https://localhost:8080/"
        },
        "id": "QMANAj-assvJ",
        "outputId": "b64c45d8-1af8-40d6-d5f7-5dfe306cac1b"
      },
      "outputs": [
        {
          "output_type": "stream",
          "name": "stdout",
          "text": [
            "Collecting openai-agents\n",
            "  Downloading openai_agents-0.0.14-py3-none-any.whl.metadata (8.2 kB)\n",
            "Collecting griffe<2,>=1.5.6 (from openai-agents)\n",
            "  Downloading griffe-1.7.3-py3-none-any.whl.metadata (5.0 kB)\n",
            "Collecting mcp<2,>=1.6.0 (from openai-agents)\n",
            "  Downloading mcp-1.7.0-py3-none-any.whl.metadata (21 kB)\n",
            "Requirement already satisfied: openai>=1.76.0 in /usr/local/lib/python3.11/dist-packages (from openai-agents) (1.76.0)\n",
            "Requirement already satisfied: pydantic<3,>=2.10 in /usr/local/lib/python3.11/dist-packages (from openai-agents) (2.11.3)\n",
            "Requirement already satisfied: requests<3,>=2.0 in /usr/local/lib/python3.11/dist-packages (from openai-agents) (2.32.3)\n",
            "Collecting types-requests<3,>=2.0 (from openai-agents)\n",
            "  Downloading types_requests-2.32.0.20250328-py3-none-any.whl.metadata (2.3 kB)\n",
            "Requirement already satisfied: typing-extensions<5,>=4.12.2 in /usr/local/lib/python3.11/dist-packages (from openai-agents) (4.13.2)\n",
            "Collecting colorama>=0.4 (from griffe<2,>=1.5.6->openai-agents)\n",
            "  Downloading colorama-0.4.6-py2.py3-none-any.whl.metadata (17 kB)\n",
            "Requirement already satisfied: anyio>=4.5 in /usr/local/lib/python3.11/dist-packages (from mcp<2,>=1.6.0->openai-agents) (4.9.0)\n",
            "Collecting httpx-sse>=0.4 (from mcp<2,>=1.6.0->openai-agents)\n",
            "  Downloading httpx_sse-0.4.0-py3-none-any.whl.metadata (9.0 kB)\n",
            "Requirement already satisfied: httpx>=0.27 in /usr/local/lib/python3.11/dist-packages (from mcp<2,>=1.6.0->openai-agents) (0.28.1)\n",
            "Collecting pydantic-settings>=2.5.2 (from mcp<2,>=1.6.0->openai-agents)\n",
            "  Downloading pydantic_settings-2.9.1-py3-none-any.whl.metadata (3.8 kB)\n",
            "Collecting python-multipart>=0.0.9 (from mcp<2,>=1.6.0->openai-agents)\n",
            "  Downloading python_multipart-0.0.20-py3-none-any.whl.metadata (1.8 kB)\n",
            "Collecting sse-starlette>=1.6.1 (from mcp<2,>=1.6.0->openai-agents)\n",
            "  Downloading sse_starlette-2.3.3-py3-none-any.whl.metadata (7.8 kB)\n",
            "Collecting starlette>=0.27 (from mcp<2,>=1.6.0->openai-agents)\n",
            "  Downloading starlette-0.46.2-py3-none-any.whl.metadata (6.2 kB)\n",
            "Collecting uvicorn>=0.23.1 (from mcp<2,>=1.6.0->openai-agents)\n",
            "  Downloading uvicorn-0.34.2-py3-none-any.whl.metadata (6.5 kB)\n",
            "Requirement already satisfied: distro<2,>=1.7.0 in /usr/local/lib/python3.11/dist-packages (from openai>=1.76.0->openai-agents) (1.9.0)\n",
            "Requirement already satisfied: jiter<1,>=0.4.0 in /usr/local/lib/python3.11/dist-packages (from openai>=1.76.0->openai-agents) (0.9.0)\n",
            "Requirement already satisfied: sniffio in /usr/local/lib/python3.11/dist-packages (from openai>=1.76.0->openai-agents) (1.3.1)\n",
            "Requirement already satisfied: tqdm>4 in /usr/local/lib/python3.11/dist-packages (from openai>=1.76.0->openai-agents) (4.67.1)\n",
            "Requirement already satisfied: annotated-types>=0.6.0 in /usr/local/lib/python3.11/dist-packages (from pydantic<3,>=2.10->openai-agents) (0.7.0)\n",
            "Requirement already satisfied: pydantic-core==2.33.1 in /usr/local/lib/python3.11/dist-packages (from pydantic<3,>=2.10->openai-agents) (2.33.1)\n",
            "Requirement already satisfied: typing-inspection>=0.4.0 in /usr/local/lib/python3.11/dist-packages (from pydantic<3,>=2.10->openai-agents) (0.4.0)\n",
            "Requirement already satisfied: charset-normalizer<4,>=2 in /usr/local/lib/python3.11/dist-packages (from requests<3,>=2.0->openai-agents) (3.4.1)\n",
            "Requirement already satisfied: idna<4,>=2.5 in /usr/local/lib/python3.11/dist-packages (from requests<3,>=2.0->openai-agents) (3.10)\n",
            "Requirement already satisfied: urllib3<3,>=1.21.1 in /usr/local/lib/python3.11/dist-packages (from requests<3,>=2.0->openai-agents) (2.4.0)\n",
            "Requirement already satisfied: certifi>=2017.4.17 in /usr/local/lib/python3.11/dist-packages (from requests<3,>=2.0->openai-agents) (2025.4.26)\n",
            "Requirement already satisfied: httpcore==1.* in /usr/local/lib/python3.11/dist-packages (from httpx>=0.27->mcp<2,>=1.6.0->openai-agents) (1.0.9)\n",
            "Requirement already satisfied: h11>=0.16 in /usr/local/lib/python3.11/dist-packages (from httpcore==1.*->httpx>=0.27->mcp<2,>=1.6.0->openai-agents) (0.16.0)\n",
            "Collecting python-dotenv>=0.21.0 (from pydantic-settings>=2.5.2->mcp<2,>=1.6.0->openai-agents)\n",
            "  Downloading python_dotenv-1.1.0-py3-none-any.whl.metadata (24 kB)\n",
            "Requirement already satisfied: click>=7.0 in /usr/local/lib/python3.11/dist-packages (from uvicorn>=0.23.1->mcp<2,>=1.6.0->openai-agents) (8.1.8)\n",
            "Downloading openai_agents-0.0.14-py3-none-any.whl (116 kB)\n",
            "\u001b[2K   \u001b[90m━━━━━━━━━━━━━━━━━━━━━━━━━━━━━━━━━━━━━━━━\u001b[0m \u001b[32m116.9/116.9 kB\u001b[0m \u001b[31m4.7 MB/s\u001b[0m eta \u001b[36m0:00:00\u001b[0m\n",
            "\u001b[?25hDownloading griffe-1.7.3-py3-none-any.whl (129 kB)\n",
            "\u001b[2K   \u001b[90m━━━━━━━━━━━━━━━━━━━━━━━━━━━━━━━━━━━━━━━━\u001b[0m \u001b[32m129.3/129.3 kB\u001b[0m \u001b[31m8.7 MB/s\u001b[0m eta \u001b[36m0:00:00\u001b[0m\n",
            "\u001b[?25hDownloading mcp-1.7.0-py3-none-any.whl (100 kB)\n",
            "\u001b[2K   \u001b[90m━━━━━━━━━━━━━━━━━━━━━━━━━━━━━━━━━━━━━━━━\u001b[0m \u001b[32m100.2/100.2 kB\u001b[0m \u001b[31m6.1 MB/s\u001b[0m eta \u001b[36m0:00:00\u001b[0m\n",
            "\u001b[?25hDownloading types_requests-2.32.0.20250328-py3-none-any.whl (20 kB)\n",
            "Downloading colorama-0.4.6-py2.py3-none-any.whl (25 kB)\n",
            "Downloading httpx_sse-0.4.0-py3-none-any.whl (7.8 kB)\n",
            "Downloading pydantic_settings-2.9.1-py3-none-any.whl (44 kB)\n",
            "\u001b[2K   \u001b[90m━━━━━━━━━━━━━━━━━━━━━━━━━━━━━━━━━━━━━━━━\u001b[0m \u001b[32m44.4/44.4 kB\u001b[0m \u001b[31m2.3 MB/s\u001b[0m eta \u001b[36m0:00:00\u001b[0m\n",
            "\u001b[?25hDownloading python_multipart-0.0.20-py3-none-any.whl (24 kB)\n",
            "Downloading sse_starlette-2.3.3-py3-none-any.whl (10 kB)\n",
            "Downloading starlette-0.46.2-py3-none-any.whl (72 kB)\n",
            "\u001b[2K   \u001b[90m━━━━━━━━━━━━━━━━━━━━━━━━━━━━━━━━━━━━━━━━\u001b[0m \u001b[32m72.0/72.0 kB\u001b[0m \u001b[31m2.6 MB/s\u001b[0m eta \u001b[36m0:00:00\u001b[0m\n",
            "\u001b[?25hDownloading uvicorn-0.34.2-py3-none-any.whl (62 kB)\n",
            "\u001b[2K   \u001b[90m━━━━━━━━━━━━━━━━━━━━━━━━━━━━━━━━━━━━━━━━\u001b[0m \u001b[32m62.5/62.5 kB\u001b[0m \u001b[31m3.3 MB/s\u001b[0m eta \u001b[36m0:00:00\u001b[0m\n",
            "\u001b[?25hDownloading python_dotenv-1.1.0-py3-none-any.whl (20 kB)\n",
            "Installing collected packages: uvicorn, types-requests, python-multipart, python-dotenv, httpx-sse, colorama, starlette, griffe, sse-starlette, pydantic-settings, mcp, openai-agents\n",
            "Successfully installed colorama-0.4.6 griffe-1.7.3 httpx-sse-0.4.0 mcp-1.7.0 openai-agents-0.0.14 pydantic-settings-2.9.1 python-dotenv-1.1.0 python-multipart-0.0.20 sse-starlette-2.3.3 starlette-0.46.2 types-requests-2.32.0.20250328 uvicorn-0.34.2\n"
          ]
        }
      ],
      "source": [
        "!pip install openai-agents"
      ]
    },
    {
      "cell_type": "code",
      "source": [
        "import os\n",
        "from google.colab import userdata\n",
        "\n",
        "# ColabのシークレットからOpenAIのAPIキーを取得\n",
        "OPENAI_API_KEY = userdata.get(\"OPENAI_API_KEY\")\n",
        "\n",
        "# OpenAIエージェントにAPIキーを設定\n",
        "os.environ['OPENAI_API_KEY'] = OPENAI_API_KEY"
      ],
      "metadata": {
        "id": "m4REnceDtAsC"
      },
      "execution_count": null,
      "outputs": []
    },
    {
      "cell_type": "code",
      "source": [
        "from agents import Agent\n",
        "\n",
        "\"\"\"\n",
        "この例は、LLMを判定者として使用するパターンを示しています。\n",
        "最初のエージェントが物語の概要を生成します。\n",
        "2番目のエージェントがその概要を評価し、フィードバックを提供します。\n",
        "判定者が概要に満足するまでループします。\n",
        "\"\"\"\n",
        "\n",
        "story_outline_generator = Agent(\n",
        "    name=\"story_outline_generator\",\n",
        "    instructions=(\n",
        "        \"ユーザーの入力に基づいて非常に短い物語の概要を生成します。\"\n",
        "        \"フィードバックが提供された場合は、それを使用して概要を改善します。\"\n",
        "    ),\n",
        ")"
      ],
      "metadata": {
        "id": "nuW6JFgNtYTI"
      },
      "execution_count": null,
      "outputs": []
    },
    {
      "cell_type": "code",
      "source": [
        "from dataclasses import dataclass\n",
        "from typing import Literal\n",
        "\n",
        "@dataclass\n",
        "class EvaluationFeedback:\n",
        "    feedback: str\n",
        "    score: int\n",
        "\n",
        "\n",
        "evaluator = Agent[None](\n",
        "    name=\"evaluator\",\n",
        "    instructions=(\n",
        "        \"物語の概要を評価し、それが十分な品質かどうかを判断します。\"\n",
        "        \"1点から100点で評価します。\"\n",
        "        \"評価が十分でない場合は、改善が必要な点についてフィードバックを提供します。\"\n",
        "        \"最初の試行で100点をさせることは絶対にありません。\"\n",
        "    ),\n",
        "    output_type=EvaluationFeedback,\n",
        ")"
      ],
      "metadata": {
        "id": "-IBUkB-htZly"
      },
      "execution_count": null,
      "outputs": []
    },
    {
      "cell_type": "code",
      "source": [
        "query = \"桃太郎の物語\""
      ],
      "metadata": {
        "id": "alRpG5rWta8P"
      },
      "execution_count": null,
      "outputs": []
    },
    {
      "cell_type": "code",
      "source": [
        "from agents import Agent, ItemHelpers, Runner, TResponseInputItem, trace\n",
        "\n",
        "input_items: list[TResponseInputItem] = [{\"content\": query, \"role\": \"user\"}]\n",
        "\n",
        "for attempt in range(10):\n",
        "    story_outline_result = await Runner.run(\n",
        "        story_outline_generator,\n",
        "        input_items,\n",
        "    )\n",
        "    print(f\"{attempt + 1}回目のアウトライン: {story_outline_result.final_output}\")\n",
        "\n",
        "    input_items = story_outline_result.to_input_list()\n",
        "    latest_outline = ItemHelpers.text_message_outputs(story_outline_result.new_items)\n",
        "\n",
        "    evaluator_result = await Runner.run(evaluator, input_items)\n",
        "    result: EvaluationFeedback = evaluator_result.final_output\n",
        "\n",
        "    print(f\"評価者のスコア: {result.score}、フィードバック: {result.feedback}\")\n",
        "\n",
        "    if result.score > 80:\n",
        "        print(\"物語の概要は十分です。終了します。\")\n",
        "        print(\"----------------------------------\")\n",
        "        break\n",
        "\n",
        "    print(\"フィードバックを反映して再実行します\")\n",
        "    print(\"----------------------------------\")\n",
        "\n",
        "    input_items.append({\"content\": f\"Feedback: {result.feedback}\", \"role\": \"user\"})\n",
        "\n",
        "print(f\"最終的な物語の概要: {latest_outline}\")\n"
      ],
      "metadata": {
        "colab": {
          "base_uri": "https://localhost:8080/"
        },
        "id": "COHVbd9MtlnT",
        "outputId": "8b4c946b-33f9-4946-911c-dfaffee5ea63"
      },
      "execution_count": null,
      "outputs": [
        {
          "output_type": "stream",
          "name": "stdout",
          "text": [
            "1回目のアウトライン: ある日、桃が川を流れてきて、おばあさんが見つけます。その桃を割ると、中から男の子、桃太郎が現れます。成長した桃太郎は、鬼退治に旅立ちます。道中で犬、猿、キジを仲間に加え、共に鬼ヶ島の鬼を退治し、村に平和を取り戻します。\n",
            "評価者のスコア: 75、フィードバック: この物語は、桃太郎のあらすじを簡潔にまとめています。\n",
            "\n",
            "改善点：\n",
            "1. 背景情報：おじいさんやおばあさんの境遇や心情が不明なので、もう少し詳細を加えると物語に厚みが出ます。\n",
            "2. キャラクターの動機：桃太郎がなぜ鬼退治に行くのか、その動機を詳しく描くと物語に説得力が増します。\n",
            "3. クライマックスの描写：鬼との戦いの場面や戦いの過程をもう少し詳しく描くと、物語に緊張感と魅力が増すでしょう。\n",
            "\n",
            "これらを考慮して調整すると、より豊かで引き込まれる物語になるでしょう。\n",
            "フィードバックを反映して再実行します\n",
            "----------------------------------\n",
            "2回目のアウトライン: 昔々、心優しいおじいさんとおばあさんが山奥で慎ましく暮らしていました。二人は子供が欲しいと願い続けていました。ある日、川で洗濯をしていたおばあさんは巨大な桃を見つけ、家に持ち帰ります。桃を割ると、中から元気な男の子が現れ、桃太郎と名付けられました。\n",
            "\n",
            "成長した桃太郎は、村を襲う鬼の噂を耳にし、村の安全を守るために鬼退治を決意します。犬、猿、キジが協力を申し出て、桃太郎の仲間になります。\n",
            "\n",
            "鬼ヶ島に到着した一行は、知恵と力を合わせて鬼たちと戦います。激しい戦いの末、桃太郎たちは見事に鬼を打ち倒し、村から奪われた宝物を取り戻しました。村に平和を取り戻した桃太郎たちは、みんなから感謝され、その後も仲間と共に幸せに暮らしました。\n",
            "評価者のスコア: 85、フィードバック: この物語は、桃太郎のあらすじを簡潔にまとめています。\n",
            "\n",
            "改善点：\n",
            "1. 背景情報：おじいさんやおばあさんの境遇や心情が不明なので、もう少し詳細を加えると物語に厚みが出ます。\n",
            "2. キャラクターの動機：桃太郎がなぜ鬼退治に行くのか、その動機を詳しく描くと物語に説得力が増します。\n",
            "3. クライマックスの描写：鬼との戦いの場面や戦いの過程をもう少し詳しく描くと、物語に緊張感と魅力が増すでしょう。\n",
            "\n",
            "これらを考慮して調整すると、より豊かで引き込まれる物語になるでしょう。\n",
            "物語の概要は十分です。終了します。\n",
            "----------------------------------\n",
            "最終的な物語の概要: 昔々、心優しいおじいさんとおばあさんが山奥で慎ましく暮らしていました。二人は子供が欲しいと願い続けていました。ある日、川で洗濯をしていたおばあさんは巨大な桃を見つけ、家に持ち帰ります。桃を割ると、中から元気な男の子が現れ、桃太郎と名付けられました。\n",
            "\n",
            "成長した桃太郎は、村を襲う鬼の噂を耳にし、村の安全を守るために鬼退治を決意します。犬、猿、キジが協力を申し出て、桃太郎の仲間になります。\n",
            "\n",
            "鬼ヶ島に到着した一行は、知恵と力を合わせて鬼たちと戦います。激しい戦いの末、桃太郎たちは見事に鬼を打ち倒し、村から奪われた宝物を取り戻しました。村に平和を取り戻した桃太郎たちは、みんなから感謝され、その後も仲間と共に幸せに暮らしました。\n"
          ]
        }
      ]
    }
  ]
}